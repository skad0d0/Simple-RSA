{
 "cells": [
  {
   "cell_type": "code",
   "execution_count": 105,
   "id": "22a88708",
   "metadata": {
    "scrolled": false
   },
   "outputs": [],
   "source": [
    "# RSA Implementation\n",
    "\n",
    "def keyGen(n=512):\n",
    "    p=random_prime(2^(n/2),lbound=2^(n/2-1))\n",
    "    q=random_prime(2^(n/2),lbound=2^(n/2-1))\n",
    "    Nn=p*q\n",
    "    e=2^16+1 #we chose e=65537\n",
    "    fn=(p-1)*(q-1)\n",
    "    d=inverse_mod(e,fn)\n",
    "    return Nn,p,q,e,d\n",
    "\n",
    "def encrypt(m,Nn,e):\n",
    "    c=m.powermod(e,Nn)\n",
    "    return c\n",
    "\n",
    "def decrypt(c,Nn,d):\n",
    "    m=c.powermod(d,Nn)\n",
    "    return m\n",
    "\n",
    "def checkEnc():\n",
    "    Nn,p,q,e,d=keyGen()\n",
    "    m=ZZ.random_element(Nn)\n",
    "    assert(decrypt(encrypt(m,Nn,e),Nn,d))\n",
    "    \n",
    "checkEnc()\n",
    "\n",
    "# Digital Signature Implementation\n",
    "\n",
    "import hashlib\n",
    "\n",
    "def sha1(m):\n",
    "    h=hashlib.sha1()\n",
    "    h.update(m.encode(\"utf-8\"))\n",
    "    return h.hexdigest()\n",
    "\n",
    "def fullHash(m,lN):\n",
    "    k=ceil(lN/160)\n",
    "    hf=\"\".join(sha1(m+str(i)) for i in range(k))\n",
    "    hf=hf[:lN//4-1]\n",
    "    return Integer(hf,base=16)\n",
    "\n",
    "def sign(m,Nn,d):\n",
    "    hf=fullHash(m,Nn.nbits())\n",
    "    s=hf.powermod(d,Nn)\n",
    "    return s\n",
    "\n",
    "def verify(s,m,Nn,e):\n",
    "    hf=fullHash(m,Nn.nbits())\n",
    "    if hf==s.powermod(e,Nn):\n",
    "        return True\n",
    "    else:\n",
    "        return False\n",
    "    \n",
    "def checkSig():\n",
    "    Nn,p,q,e,d=keyGen()\n",
    "    m=\"message\"\n",
    "    assert(verify(sign(m,Nn,d),m,Nn,e))\n",
    "\n",
    "checkSig()\n",
    "\n",
    "\n",
    "\n"
   ]
  }
 ],
 "metadata": {
  "kernelspec": {
   "display_name": "SageMath 10.0",
   "language": "sage",
   "name": "sagemath"
  },
  "language_info": {
   "codemirror_mode": {
    "name": "ipython",
    "version": 3
   },
   "file_extension": ".py",
   "mimetype": "text/x-python",
   "name": "python",
   "nbconvert_exporter": "python",
   "pygments_lexer": "ipython3",
   "version": "3.8.16"
  }
 },
 "nbformat": 4,
 "nbformat_minor": 5
}
